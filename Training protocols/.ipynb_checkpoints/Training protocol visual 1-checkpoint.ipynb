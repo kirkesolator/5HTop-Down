{
 "cells": [
  {
   "cell_type": "code",
   "execution_count": null,
   "metadata": {
    "scrolled": false
   },
   "outputs": [],
   "source": [
    "def connectArduino(bdRate,tUntil):\n",
    "#    bdRate = 9600\n",
    "    # Get com computer port names\n",
    "    from serial.tools import list_ports\n",
    "    ports = list_ports.comports(include_links=False)\n",
    "    for port in ports:\n",
    "        print(port.device)\n",
    "\n",
    "    # This is the simplest possible way I know to just get serial data from arduino. MAKE SURE BAUD RATES ARE THE SAME\n",
    "    import serial\n",
    "    from IPython.display import clear_output\n",
    "\n",
    "    arduino = serial.Serial(ports[1].device, bdRate, timeout=1)\n",
    "    stringdata = \"Mouse1: \"\n",
    "    counter = 0;\n",
    "    while counter < tUntil:\n",
    "        data = arduino.readline()\n",
    "        if data:\n",
    "            stringdata += data.decode('utf-8')\n",
    "            counter += 1\n",
    "    return stringdata\n"
   ]
  },
  {
   "cell_type": "code",
   "execution_count": null,
   "metadata": {},
   "outputs": [],
   "source": [
    "def doThing(b):\n",
    "    global datastring\n",
    "    datastring = connectArduino(9600,10)\n",
    "    return datastring"
   ]
  },
  {
   "cell_type": "code",
   "execution_count": null,
   "metadata": {},
   "outputs": [],
   "source": [
    "def tGUI():\n",
    "    h1 = widgets.ToggleButton(\n",
    "        value=False,\n",
    "        description='Pause training',\n",
    "        disabled=False,\n",
    "        button_style='info', # 'success', 'info', 'warning', 'danger' or ''\n",
    "        tooltip='Description',\n",
    "        icon='check'\n",
    "    )\n",
    "\n",
    "    h2 = widgets.Textarea(\n",
    "        placeholder='Mouse ID',\n",
    "        description='Enter:',\n",
    "        disabled=False\n",
    "    )\n",
    "\n",
    "    h3 = widgets.DatePicker(\n",
    "        description='Pick a Date',\n",
    "        disabled=False\n",
    "    )\n",
    "\n",
    "    h4 = widgets.Button(\n",
    "        description = 'Reset and start',\n",
    "        disabled = False,\n",
    "        button_style = 'warning', # 'success', 'info', 'warning', 'danger' or ''\n",
    "        tooltip = 'Reset block/trials',\n",
    "        icon='none'\n",
    "    )\n",
    "    h5 = widgets.Button(\n",
    "        description = 'Connect arduino',\n",
    "        disabled = False,\n",
    "        button_style = 'success', # 'success', 'info', 'warning', 'danger' or ''\n",
    "        tooltip = '',\n",
    "        icon='none'\n",
    "    )\n",
    "    items = [h3, h2, h5, h1, h4]\n",
    "    h5.on_click(doThing)\n",
    "    return items#, datastring\n",
    "    \n",
    "        \n"
   ]
  },
  {
   "cell_type": "code",
   "execution_count": null,
   "metadata": {},
   "outputs": [],
   "source": [
    "datastring = connectArduino(9600,10)"
   ]
  },
  {
   "cell_type": "code",
   "execution_count": null,
   "metadata": {},
   "outputs": [],
   "source": [
    "datastring"
   ]
  },
  {
   "cell_type": "code",
   "execution_count": null,
   "metadata": {},
   "outputs": [],
   "source": [
    "import ipywidgets as widgets\n",
    "items = tGUI()\n",
    "widgets.HBox(items)"
   ]
  },
  {
   "cell_type": "code",
   "execution_count": null,
   "metadata": {},
   "outputs": [],
   "source": [
    "splitdata = stringdata.split(\"_::\")\n",
    "splitdata[1].split(\":_\")"
   ]
  },
  {
   "cell_type": "code",
   "execution_count": null,
   "metadata": {},
   "outputs": [],
   "source": [
    "import threading\n",
    "from IPython.display import display, HTML\n",
    "import ipywidgets as widgets\n",
    "import time\n",
    "\n",
    "def thread_func(something, out):\n",
    "    for i in range(1, 5):\n",
    "        time.sleep(0.3)\n",
    "        out.append_stdout('{} {} {}\\n'.format(i, '**'*i, something))\n",
    "    out.append_display_data(HTML(\"<em>All done!</em>\"))\n",
    "\n",
    "display('Display in main thread')\n",
    "out = widgets.Output()\n",
    "# Now the key: the container is displayed (while empty) in the main thread\n",
    "display(out)\n",
    "\n",
    "thread = threading.Thread(\n",
    "    target=thread_func,\n",
    "    args=(\"some text\", out))\n",
    "thread.start()"
   ]
  },
  {
   "cell_type": "code",
   "execution_count": null,
   "metadata": {},
   "outputs": [],
   "source": [
    "from IPython.display import display\n",
    "button = widgets.Button(description=\"Click Me!\")\n",
    "display(button)\n",
    "\n",
    "def on_button_clicked(b):\n",
    "    print(\"Button clicked.\")\n",
    "\n",
    "button.on_click(on_button_clicked)"
   ]
  },
  {
   "cell_type": "code",
   "execution_count": null,
   "metadata": {},
   "outputs": [],
   "source": [
    "@interact(x=True, y=1.0)\n",
    "def g(x, y):\n",
    "    return (x, y)"
   ]
  },
  {
   "cell_type": "code",
   "execution_count": null,
   "metadata": {},
   "outputs": [],
   "source": [
    "import psychopy.visual\n",
    "import psychopy.event\n",
    "win = psychopy.visual.Window(\n",
    "    size = [400,400],\n",
    "    units = \"pix\",\n",
    "    fullscr = False\n",
    ")\n",
    "\n",
    "myGabor = psychopy.visual.GratingStim(win=win, size = [150,150],tex='sin', mask='gauss')\n",
    "myGabor.draw()\n",
    "win.flip()\n",
    "psychopy.event.waitKeys()\n",
    "win.close()"
   ]
  },
  {
   "cell_type": "code",
   "execution_count": null,
   "metadata": {},
   "outputs": [],
   "source": [
    "from psychopy import visual, core\n",
    "\n",
    "#setup stimulus\n",
    "win=visual.Window([400,400])"
   ]
  },
  {
   "cell_type": "code",
   "execution_count": null,
   "metadata": {},
   "outputs": [],
   "source": [
    "import matplotlib.pyplot as plt\n",
    "fig = plt.figure(figsize=[400,400])\n",
    "fig.show()"
   ]
  },
  {
   "cell_type": "code",
   "execution_count": null,
   "metadata": {},
   "outputs": [],
   "source": [
    "from psychopy import visual, core\n",
    "gabor = visual.GratingStim(fig, tex='sin', mask='gauss', sf=5, name='gabor')\n",
    "gabor.setAutoDraw(True)  # automatically draw every frame\n",
    "gabor.autoLog=False#or we'll get many messages about phase change\n",
    "\n",
    "clock = core.Clock()\n",
    "#let's draw a stimulus for 2s, drifting for middle 0.5s\n",
    "while clock.getTime() < 2.0:  # clock times are in seconds\n",
    "    if 0.5 <= clock.getTime() < 1.0:\n",
    "        gabor.setPhase(0.1, '+')  # increment by 10th of cycle\n",
    "    win.flip()"
   ]
  },
  {
   "cell_type": "code",
   "execution_count": 18,
   "metadata": {},
   "outputs": [],
   "source": [
    "win.close()"
   ]
  },
  {
   "cell_type": "code",
   "execution_count": 19,
   "metadata": {},
   "outputs": [],
   "source": [
    "import numpy as np"
   ]
  },
  {
   "cell_type": "code",
   "execution_count": 21,
   "metadata": {},
   "outputs": [],
   "source": [
    "test=np.array([10,10])"
   ]
  },
  {
   "cell_type": "code",
   "execution_count": 23,
   "metadata": {},
   "outputs": [
    {
     "data": {
      "text/plain": [
       "2"
      ]
     },
     "execution_count": 23,
     "metadata": {},
     "output_type": "execute_result"
    }
   ],
   "source": [
    "len(test)"
   ]
  },
  {
   "cell_type": "code",
   "execution_count": null,
   "metadata": {},
   "outputs": [],
   "source": []
  }
 ],
 "metadata": {
  "kernelspec": {
   "display_name": "Python 2",
   "language": "python",
   "name": "python2"
  },
  "language_info": {
   "codemirror_mode": {
    "name": "ipython",
    "version": 2
   },
   "file_extension": ".py",
   "mimetype": "text/x-python",
   "name": "python",
   "nbconvert_exporter": "python",
   "pygments_lexer": "ipython2",
   "version": "2.7.15"
  }
 },
 "nbformat": 4,
 "nbformat_minor": 2
}
