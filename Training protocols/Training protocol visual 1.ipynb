{
 "cells": [
  {
   "cell_type": "code",
   "execution_count": 1,
   "metadata": {},
   "outputs": [
    {
     "name": "stdout",
     "output_type": "stream",
     "text": [
      "/dev/cu.Bluetooth-Incoming-Port\n",
      "/dev/cu.usbmodem1421\n"
     ]
    }
   ],
   "source": [
    "# Get com port names\n",
    "from serial.tools import list_ports\n",
    "ports = list_ports.comports(include_links=False)\n",
    "for port in ports:\n",
    "    print(port.device)"
   ]
  },
  {
   "cell_type": "code",
   "execution_count": null,
   "metadata": {
    "scrolled": false
   },
   "outputs": [],
   "source": [
    "# This is the simplest possible way I know to just get serial data from arduino. MAKE SURE BAUD RATES ARE THE SAME\n",
    "import serial\n",
    "arduino = serial.Serial(ports[1].device, 9600, timeout=.1)\n",
    "count = 0\n",
    "while count < 1000:\n",
    "    data = arduino.readline()\n",
    "    count += 1\n",
    "    if data:\n",
    "        print(str(data.decode(\"utf-8\")))"
   ]
  },
  {
   "cell_type": "code",
   "execution_count": null,
   "metadata": {
    "scrolled": true
   },
   "outputs": [],
   "source": []
  }
 ],
 "metadata": {
  "kernelspec": {
   "display_name": "Python 3",
   "language": "python",
   "name": "python3"
  },
  "language_info": {
   "codemirror_mode": {
    "name": "ipython",
    "version": 3
   },
   "file_extension": ".py",
   "mimetype": "text/x-python",
   "name": "python",
   "nbconvert_exporter": "python",
   "pygments_lexer": "ipython3",
   "version": "3.6.6"
  }
 },
 "nbformat": 4,
 "nbformat_minor": 2
}
