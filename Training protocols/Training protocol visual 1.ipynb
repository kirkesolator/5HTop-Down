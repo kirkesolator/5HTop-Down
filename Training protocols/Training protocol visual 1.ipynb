{
 "cells": [
  {
   "cell_type": "code",
   "execution_count": 5,
   "metadata": {
    "scrolled": false
   },
   "outputs": [],
   "source": [
    "def connectArduino(bdRate,tUntil):\n",
    "#    bdRate = 9600\n",
    "    # Get com computer port names\n",
    "    from serial.tools import list_ports\n",
    "    ports = list_ports.comports(include_links=False)\n",
    "    for port in ports:\n",
    "        print(port.device)\n",
    "\n",
    "    # This is the simplest possible way I know to just get serial data from arduino. MAKE SURE BAUD RATES ARE THE SAME\n",
    "    import serial\n",
    "    from IPython.display import clear_output\n",
    "\n",
    "    arduino = serial.Serial(ports[1].device, bdRate, timeout=.2)\n",
    "    stringdata = \"Mouse1: \"\n",
    "    counter = 0;\n",
    "    while counter < tUntil:\n",
    "        data = arduino.readline()\n",
    "        if data:\n",
    "            stringdata += data.decode('utf-8')\n",
    "            counter += 1\n",
    "    return stringdata\n"
   ]
  },
  {
   "cell_type": "code",
   "execution_count": 6,
   "metadata": {},
   "outputs": [],
   "source": [
    "def doThing(b):\n",
    "    global datastring\n",
    "    datastring = connectArduino(9600,10)\n",
    "    return datastring"
   ]
  },
  {
   "cell_type": "code",
   "execution_count": 7,
   "metadata": {},
   "outputs": [],
   "source": [
    "def tGUI():\n",
    "    h1 = widgets.ToggleButton(\n",
    "        value=False,\n",
    "        description='Pause training',\n",
    "        disabled=False,\n",
    "        button_style='info', # 'success', 'info', 'warning', 'danger' or ''\n",
    "        tooltip='Description',\n",
    "        icon='check'\n",
    "    )\n",
    "\n",
    "    h2 = widgets.Textarea(\n",
    "        placeholder='Mouse ID',\n",
    "        description='Enter:',\n",
    "        disabled=False\n",
    "    )\n",
    "\n",
    "    h3 = widgets.DatePicker(\n",
    "        description='Pick a Date',\n",
    "        disabled=False\n",
    "    )\n",
    "\n",
    "    h4 = widgets.Button(\n",
    "        description = 'Reset and start',\n",
    "        disabled = False,\n",
    "        button_style = 'warning', # 'success', 'info', 'warning', 'danger' or ''\n",
    "        tooltip = 'Reset block/trials',\n",
    "        icon='none'\n",
    "    )\n",
    "    h5 = widgets.Button(\n",
    "        description = 'Connect arduino',\n",
    "        disabled = False,\n",
    "        button_style = 'success', # 'success', 'info', 'warning', 'danger' or ''\n",
    "        tooltip = '',\n",
    "        icon='none'\n",
    "    )\n",
    "    items = [h3, h2, h5, h1, h4]\n",
    "    h5.on_click(doThing)\n",
    "    return items#, datastring\n",
    "    \n",
    "        \n"
   ]
  },
  {
   "cell_type": "code",
   "execution_count": null,
   "metadata": {},
   "outputs": [],
   "source": [
    "datastring = connectArduino(9600,10)"
   ]
  },
  {
   "cell_type": "code",
   "execution_count": 9,
   "metadata": {},
   "outputs": [
    {
     "data": {
      "text/plain": [
       "u'Mouse1: _S3:22191_S5:22211_:_Tn11:22211_S1:23214_S2:23716_S3:23932_S5:23952_:_Tn12:23952_S1:24955_S2:25457_S4:25999_S5:26019_:_Tn13:26019_S1:27022_S2:27524_S4:28210_S5:28230_:_Tn14:28230'"
      ]
     },
     "execution_count": 9,
     "metadata": {},
     "output_type": "execute_result"
    }
   ],
   "source": [
    "datastring"
   ]
  },
  {
   "cell_type": "code",
   "execution_count": 8,
   "metadata": {},
   "outputs": [
    {
     "data": {
      "application/vnd.jupyter.widget-view+json": {
       "model_id": "2f44838b47ca44388132d1d2cacdf3e8",
       "version_major": 2,
       "version_minor": 0
      },
      "text/plain": [
       "SEJveChjaGlsZHJlbj0oRGF0ZVBpY2tlcih2YWx1ZT1Ob25lLCBkZXNjcmlwdGlvbj11J1BpY2sgYSBEYXRlJyksIFRleHRhcmVhKHZhbHVlPXUnJywgZGVzY3JpcHRpb249dSdFbnRlcjonLCDigKY=\n"
      ]
     },
     "metadata": {},
     "output_type": "display_data"
    },
    {
     "name": "stdout",
     "output_type": "stream",
     "text": [
      "/dev/cu.Bluetooth-Incoming-Port\n",
      "/dev/cu.usbmodem14101\n"
     ]
    }
   ],
   "source": [
    "import ipywidgets as widgets\n",
    "items = tGUI()\n",
    "widgets.HBox(items)"
   ]
  },
  {
   "cell_type": "code",
   "execution_count": null,
   "metadata": {},
   "outputs": [],
   "source": [
    "splitdata = stringdata.split(\"_::\")\n",
    "splitdata[1].split(\":_\")"
   ]
  },
  {
   "cell_type": "code",
   "execution_count": null,
   "metadata": {},
   "outputs": [],
   "source": [
    "import threading\n",
    "from IPython.display import display, HTML\n",
    "import ipywidgets as widgets\n",
    "import time\n",
    "\n",
    "def thread_func(something, out):\n",
    "    for i in range(1, 5):\n",
    "        time.sleep(0.3)\n",
    "        out.append_stdout('{} {} {}\\n'.format(i, '**'*i, something))\n",
    "    out.append_display_data(HTML(\"<em>All done!</em>\"))\n",
    "\n",
    "display('Display in main thread')\n",
    "out = widgets.Output()\n",
    "# Now the key: the container is displayed (while empty) in the main thread\n",
    "display(out)\n",
    "\n",
    "thread = threading.Thread(\n",
    "    target=thread_func,\n",
    "    args=(\"some text\", out))\n",
    "thread.start()"
   ]
  },
  {
   "cell_type": "code",
   "execution_count": null,
   "metadata": {},
   "outputs": [],
   "source": [
    "from IPython.display import display\n",
    "button = widgets.Button(description=\"Click Me!\")\n",
    "display(button)\n",
    "\n",
    "def on_button_clicked(b):\n",
    "    print(\"Button clicked.\")\n",
    "\n",
    "button.on_click(on_button_clicked)"
   ]
  },
  {
   "cell_type": "code",
   "execution_count": null,
   "metadata": {},
   "outputs": [],
   "source": [
    "@interact(x=True, y=1.0)\n",
    "def g(x, y):\n",
    "    return (x, y)"
   ]
  },
  {
   "cell_type": "code",
   "execution_count": null,
   "metadata": {},
   "outputs": [],
   "source": []
  }
 ],
 "metadata": {
  "kernelspec": {
   "display_name": "Python 2",
   "language": "python",
   "name": "python2"
  },
  "language_info": {
   "codemirror_mode": {
    "name": "ipython",
    "version": 2
   },
   "file_extension": ".py",
   "mimetype": "text/x-python",
   "name": "python",
   "nbconvert_exporter": "python",
   "pygments_lexer": "ipython2",
   "version": "2.7.14"
  }
 },
 "nbformat": 4,
 "nbformat_minor": 2
}
