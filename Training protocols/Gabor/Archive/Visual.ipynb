{
 "cells": [
  {
   "cell_type": "code",
   "execution_count": null,
   "metadata": {},
   "outputs": [],
   "source": [
    "import numpy as np\n",
    "import matplotlib.pyplot as plt"
   ]
  },
  {
   "cell_type": "code",
   "execution_count": null,
   "metadata": {},
   "outputs": [],
   "source": [
    "mSize = [400,400]\n",
    "x = np.arange(-mSize[1]/2, mSize[1]/2)\n",
    "y = np.arange(-mSize[1]/2, mSize[1]/2)\n",
    "xx, yy = np.meshgrid(x, y, sparse=True)\n",
    "\n",
    "\n",
    "z = np.sqrt(xx**2 + yy**2)\n",
    "h = plt.imshow(z)\n",
    "plt.colorbar()\n",
    "plt.show()"
   ]
  },
  {
   "cell_type": "code",
   "execution_count": null,
   "metadata": {},
   "outputs": [],
   "source": [
    "gCycles = 5\n",
    "vSin = np.sin(x/mSize[1]*gCycles*np.pi*2)"
   ]
  },
  {
   "cell_type": "code",
   "execution_count": null,
   "metadata": {},
   "outputs": [],
   "source": [
    "plt.plot(vSin)"
   ]
  },
  {
   "cell_type": "code",
   "execution_count": null,
   "metadata": {},
   "outputs": [],
   "source": [
    "plt.imshow(np.tile(vSin,(mSize[1],1)))"
   ]
  },
  {
   "cell_type": "code",
   "execution_count": null,
   "metadata": {},
   "outputs": [],
   "source": [
    "def genSinusoid(sz, A, omega, rho):\n",
    "    # Generate Sinusoid grating\n",
    "    # sz: size of generated image (width, height)\n",
    "    radius = (int(sz[0]/2.0), int(sz[1]/2.0))\n",
    "    [x, y] = np.meshgrid(range(-radius[0], radius[0]+1), range(-radius[1], radius[1]+1)) # a BUG is fixed in this line\n",
    "\n",
    "    stimuli = A * np.cos(omega[0] * x  + omega[1] * y + rho)\n",
    "    return stimuli\n",
    "\n",
    "theta = np.pi/4\n",
    "omega = [np.cos(theta), np.sin(theta)]\n",
    "sinusoidParam = {'A':1, 'omega':omega, 'rho':np.pi/2, 'sz':(60,60)}\n",
    "myimshow(genSinusoid(**sinusoidParam)) \n",
    "# ** is a special syntax in python, which enables passing a key-value dictionary as parameter"
   ]
  },
  {
   "cell_type": "markdown",
   "metadata": {},
   "source": [
    "**This is the definition of a Gabor filter:**\n",
    "$$g(x,y;\\lambda,\\theta,\\phi,\\sigma,\\gamma) = \\exp{\\big (-\\frac{x'^2+\\gamma^2 y'^2}{2\\sigma^2}\\big )} \\cos{\\big ( 2 \\pi\\frac{x'}{\\lambda}+\\phi \\big ) }$$\n",
    "where\n",
    "$$x' = x \\cos{\\theta} + y \\sin{\\theta}$$\n",
    "$$y' = -x \\sin{\\theta} + y \\cos{\\theta}$$\n",
    "\n",
    "x and y are the spatial locations of your data points\n",
    "\n",
    "$\\lambda$ sets the cosine grating frequency\n",
    "\n",
    "$\\theta$ sets the orientation (in radians) of the grating\n",
    "\n",
    "$\\phi$ sets the phase offset of the grating\n",
    "\n",
    "$\\sigma$ sets the width of the Gaussian (its std)\n",
    "\n",
    "$\\gamma$ sets the ellipticity of the Gaussian mask\n",
    "\n"
   ]
  },
  {
   "cell_type": "code",
   "execution_count": null,
   "metadata": {},
   "outputs": [],
   "source": [
    "# Import python library for this notebook\n",
    "import numpy as np # fundamental package for scientific computing\n",
    "import matplotlib.pyplot as plt # package for plot function\n",
    "import time\n",
    "\n",
    "# show figures inline\n",
    "#%matplotlib inline \n",
    "%matplotlib \n",
    "\n",
    "def myimshow(I, **kwargs):\n",
    "    # utility function to show image\n",
    "    plt.figure(figsize=(4,4),dpi=300);\n",
    "    plt.axis('off')\n",
    "    plt.imshow(I, cmap=plt.gray(), **kwargs)"
   ]
  },
  {
   "cell_type": "code",
   "execution_count": null,
   "metadata": {},
   "outputs": [],
   "source": [
    "def torGabor(size, lambd, theta, phi, sigma, gamma, contrast, offset, angle, func=np.cos):\n",
    "    radius = (int(size[0]/2.0), int(size[1]/2.0))\n",
    "    [x, y] = np.meshgrid(range(-radius[0], radius[0]+1), range(-radius[1], radius[1]+1))\n",
    "    \n",
    "    # Calculate spatial offset of stimulus\n",
    "    x11 = np.sin(2 * np.pi * angle) * offset\n",
    "    y11 = np.cos(2 * np.pi * angle) * offset\n",
    "    \n",
    "    # Calculate  orientation of stimulus\n",
    "    x1 = (x-x11) * np.cos(theta) + (y-y11) * np.sin(theta)\n",
    "    y1 = -(x-x11) * np.sin(theta) + (y-y11) * np.cos(theta)\n",
    "    \n",
    "    # Calculate the filter\n",
    "    filtG = contrast * (np.exp(-(x1**2 + gamma**2 * y1**2)/(2 * sigma**2)) # Gaussian component\n",
    "                        * func(2 * np.pi * (x1 / lambd) + phi)) # Cosine/sine component\n",
    "    \n",
    "    return filtG\n",
    "g = torGabor((512,512),50,.2,0,25,.65,1,100,.3)\n",
    "fig = plt.figure(figsize=(400,400))\n",
    "myimshow(g)\n",
    "\n",
    "\n",
    "#plt.show()\n",
    "#for i in range(100):\n",
    "#    g = torGabor((512,512),50,.2,i,25,.65,1,100,.3)#\n",
    "#\n",
    "    #g[np.abs(g) < .0001] = 0\n",
    "#    fig.subplots(1,1)\n",
    "#    plt.imshow(g)\n",
    "\n",
    "#    plt.clim((-1,1))\n",
    "#    plt.pause(0.05)\n"
   ]
  },
  {
   "cell_type": "code",
   "execution_count": null,
   "metadata": {},
   "outputs": [],
   "source": [
    "def genGabor(sz, omega, theta, func=np.cos, K=np.pi):\n",
    "    radius = (int(sz[0]/2.0), int(sz[1]/2.0))\n",
    "    [x, y] = np.meshgrid(range(-radius[0], radius[0]+1), range(-radius[1], radius[1]+1))\n",
    "\n",
    "    x1 = x * np.cos(theta) + y * np.sin(theta)\n",
    "    y1 = -x * np.sin(theta) + y * np.cos(theta)\n",
    "    \n",
    "    gauss = omega**2 / (4*np.pi * K**2) * np.exp(- omega**2 / (8*K**2) * (2* x1**2 + y1**2))\n",
    "    #myimshow(gauss)\n",
    "    sinusoid = func(omega * x1) * np.exp(K**2 / 2)\n",
    "    #myimshow(sinusoid)\n",
    "    gabor = gauss * sinusoid\n",
    "    return gabor\n",
    "        \n",
    "g = genGabor((512,512), 0.1, np.pi/20, func=np.cos, K = 2) \n",
    "# change func to \"cos\", \"sin\" can generate sin gabor or cos gabor, here we pass a function name as a parameter\n",
    "myimshow(g)\n",
    "np.mean(g)"
   ]
  },
  {
   "cell_type": "code",
   "execution_count": null,
   "metadata": {},
   "outputs": [],
   "source": [
    "from IPython.html.widgets import interact, interactive, fixed\n",
    "def demoGabor(theta, omega):\n",
    "    myimshow(genGabor((256,256), omega, theta))\n",
    "interact(demoGabor, theta=(0,np.pi,np.pi/8), omega=(0.1,.3,0.1))"
   ]
  },
  {
   "cell_type": "code",
   "execution_count": null,
   "metadata": {},
   "outputs": [],
   "source": [
    "## I don't like this one\n",
    "import numpy as np\n",
    "\n",
    "def gabor_fn(sigma, theta, Lambda, psi, gamma):\n",
    "    sigma_x = sigma\n",
    "    sigma_y = float(sigma) / gamma\n",
    "\n",
    "    # Bounding box\n",
    "    nstds = 5 # Number of standard deviation sigma\n",
    "    xmax = max(abs(nstds * sigma_x * np.cos(theta)), abs(nstds * sigma_y * np.sin(theta)))\n",
    "    xmax = np.ceil(max(1, xmax))\n",
    "    ymax = max(abs(nstds * sigma_x * np.sin(theta)), abs(nstds * sigma_y * np.cos(theta)))\n",
    "    ymax = np.ceil(max(1, ymax))\n",
    "    xmin = -xmax\n",
    "    ymin = -ymax\n",
    "    (y, x) = np.meshgrid(np.arange(ymin, ymax + 1), np.arange(xmin, xmax + 1))\n",
    "\n",
    "    # Rotation \n",
    "    x_theta = x * np.cos(theta) + y * np.sin(theta)\n",
    "    y_theta = -x * np.sin(theta) + y * np.cos(theta)\n",
    "\n",
    "    gb = np.exp(-.5 * (x_theta ** 2 / sigma_x ** 2 + y_theta ** 2 / sigma_y ** 2)) * np.cos(2 * np.pi / Lambda * x_theta + psi)\n",
    "    return gb"
   ]
  },
  {
   "cell_type": "code",
   "execution_count": null,
   "metadata": {},
   "outputs": [],
   "source": [
    "plt.imshow(gabor_fn(10, 1, 10, 10, 20))"
   ]
  },
  {
   "cell_type": "code",
   "execution_count": null,
   "metadata": {},
   "outputs": [],
   "source": [
    "import numpy as np\n",
    "import matplotlib.pyplot as plt\n",
    "import matplotlib.animation as animation\n",
    "\n",
    "fig = plt.figure()\n",
    "\n",
    "\n",
    "def f(x, y):\n",
    "    return np.sin(x) + np.cos(y)\n",
    "\n",
    "x = np.linspace(0, 2 * np.pi, 120)\n",
    "y = np.linspace(0, 2 * np.pi, 100).reshape(-1, 1)\n",
    "\n",
    "im = plt.imshow(f(x, y), animated=True)\n",
    "\n",
    "\n",
    "def updatefig(*args):\n",
    "    global x, y\n",
    "    x += np.pi / 15.\n",
    "    y += np.pi / 20.\n",
    "    im.set_array(f(x, y))\n",
    "    return im,\n",
    "\n",
    "ani = animation.FuncAnimation(fig, updatefig, interval=50, blit=True)\n",
    "plt.show()"
   ]
  },
  {
   "cell_type": "code",
   "execution_count": null,
   "metadata": {},
   "outputs": [],
   "source": [
    "from ipywidgets import interact, interactive, IntSlider, Layout, interact_manual\n",
    "import ipywidgets as widgets\n",
    "from IPython.display import display\n",
    "\n",
    "import numpy as np\n",
    "import matplotlib.pyplot as plt\n",
    "#%matplotlib inline\n",
    "\n",
    "import pandas as pd"
   ]
  },
  {
   "cell_type": "code",
   "execution_count": null,
   "metadata": {},
   "outputs": [],
   "source": [
    "N_samples = 25\n",
    "x_min = -5\n",
    "x_max = 5\n",
    "x1= np.linspace(x_min,x_max,N_samples*5)\n",
    "x= np.random.choice(x1,size=N_samples)\n",
    "noise_std=1\n",
    "noise_mean=0\n",
    "noise_magnitude = 2"
   ]
  },
  {
   "cell_type": "code",
   "execution_count": null,
   "metadata": {},
   "outputs": [],
   "source": [
    "def func_gen(N_samples,x_min,x_max,noise_magnitude,noise_sd,noise_mean):\n",
    "    x1= np.linspace(x_min,x_max,N_samples*5)\n",
    "    x= np.random.choice(x1,size=N_samples)\n",
    "    y=2*x-0.6*x**2+0.2*x**3+18*np.sin(x)\n",
    "    y1=2*x1-0.6*x1**2+0.2*x1**3+18*np.sin(x1)\n",
    "    y= y+noise_magnitude*np.random.normal(loc=noise_mean,scale=noise_sd,size=N_samples)\n",
    "    plt.figure(figsize=(8,5))\n",
    "    plt.plot(x1,y1,c='k',lw=2)\n",
    "    plt.scatter(x,y,edgecolors='k',c='yellow',s=60)\n",
    "    plt.grid(True)\n",
    "    plt.show()\n",
    "    return (x,y,x1,y1)"
   ]
  },
  {
   "cell_type": "code",
   "execution_count": null,
   "metadata": {},
   "outputs": [],
   "source": [
    "p=interactive(func_gen,N_samples={'Low (50 samples)':50,'High (200 samples)':200},x_min=(-5,0,1), x_max=(0,5,1),\n",
    "              noise_magnitude=(0,5,1),noise_sd=(0.1,1,0.1),noise_mean=(-2,2,0.5))\n",
    "display(p)\n"
   ]
  },
  {
   "cell_type": "code",
   "execution_count": null,
   "metadata": {},
   "outputs": [],
   "source": [
    "x,y,x1,y1 = p.result"
   ]
  },
  {
   "cell_type": "code",
   "execution_count": null,
   "metadata": {},
   "outputs": [],
   "source": [
    "from sklearn.model_selection import train_test_split\n",
    "from sklearn.preprocessing import PolynomialFeatures\n",
    "from sklearn.linear_model import LassoCV\n",
    "from sklearn.linear_model import RidgeCV\n",
    "from sklearn.linear_model import LinearRegression\n",
    "from sklearn.pipeline import make_pipeline"
   ]
  },
  {
   "cell_type": "code",
   "execution_count": null,
   "metadata": {},
   "outputs": [],
   "source": [
    "lasso_eps = 0.01\n",
    "lasso_nalpha=20\n",
    "lasso_iter=3000\n",
    "ridge_alphas = (0.001,0.01,0.1,1)\n",
    "\n",
    "def func_fit(model_type,test_size,degree):\n",
    "    X_train, X_test, y_train, y_test = train_test_split(x,y,test_size=test_size,random_state=55)\n",
    "    \n",
    "    if (model_type=='Linear regression'):\n",
    "        model = make_pipeline(PolynomialFeatures(degree,interaction_only=False), \n",
    "                          LinearRegression(normalize=True))\n",
    "    if (model_type=='LASSO with CV'):    \n",
    "        model = make_pipeline(PolynomialFeatures(degree,interaction_only=False), \n",
    "                              LassoCV(eps=lasso_eps,n_alphas=lasso_nalpha,max_iter=lasso_iter,normalize=True,cv=5))\n",
    "        \n",
    "    if (model_type=='Ridge with CV'):    \n",
    "        model = make_pipeline(PolynomialFeatures(degree,interaction_only=False), \n",
    "                              RidgeCV(alphas=ridge_alphas,normalize=True,cv=5))\n",
    "    \n",
    "    X_train=X_train.reshape(-1,1)\n",
    "    X_test=X_test.reshape(-1,1)\n",
    "    \n",
    "    model.fit(X_train,y_train)\n",
    "    \n",
    "    train_pred = np.array(model.predict(X_train))\n",
    "    train_score = model.score(X_train,y_train)\n",
    "    \n",
    "    test_pred = np.array(model.predict(X_test))\n",
    "    test_score = model.score(X_test,y_test)\n",
    "    \n",
    "    RMSE_test=np.sqrt(np.mean(np.square(test_pred-y_test)))\n",
    "    RMSE_train=np.sqrt(np.mean(np.square(train_pred-y_train)))\n",
    "       \n",
    "    plt.figure(figsize=(14,6))\n",
    "    \n",
    "    plt.subplot(1,2,1)\n",
    "    plt.title(\"Test set performance\\nTest score: %.3f\"%(test_score),fontsize=16)\n",
    "    plt.xlabel(\"X-test\",fontsize=13)\n",
    "    plt.ylabel(\"y-test\",fontsize=13)\n",
    "    plt.scatter(X_test,y_test,edgecolors='k',c='blue',s=60)\n",
    "    plt.scatter(X_test,test_pred,edgecolors='k',c='yellow',s=60)\n",
    "    plt.grid(True)\n",
    "    plt.legend(['Actual test values','Predicted values'])\n",
    "    \n",
    "    plt.subplot(1,2,2)\n",
    "    plt.title(\"Training set performance\\nTraining score: %.3f\"%(train_score),fontsize=16)\n",
    "    plt.xlabel(\"X-train\",fontsize=13)\n",
    "    plt.ylabel(\"y-train\",fontsize=13)\n",
    "    plt.scatter(X_train,y_train,c='blue')\n",
    "    plt.scatter(X_train,train_pred,c='yellow')\n",
    "    plt.grid(True)\n",
    "    plt.legend(['Actual training values','Fitted values'])\n",
    "    \n",
    "    plt.show()\n",
    "       \n",
    "    return (train_score,test_score)"
   ]
  },
  {
   "cell_type": "code",
   "execution_count": null,
   "metadata": {},
   "outputs": [],
   "source": [
    "style = {'description_width': 'initial'}\n",
    "# Continuous_update = False for IntSlider control to stop continuous model evaluation while the slider is being dragged\n",
    "m = interactive(func_fit,model_type=widgets.RadioButtons(options=['Linear regression','LASSO with CV', 'Ridge with CV'],\n",
    "                                                    description = \"Choose Model\",style=style,\n",
    "                                                        layout=Layout(width='250px')),\n",
    "                test_size=widgets.Dropdown(options={\"10% of data\":0.1,\"20% of data\":0.2, \"30% of data\":0.3,\n",
    "                                                    \"40% of data\":0.4,\"50% of data\":0.5},\n",
    "                                          description=\"Test set size ($X_{test}$)\",style=style),\n",
    "               degree=widgets.IntSlider(min=1,max=10,step=1,description= 'Polynomial($\\sum\\limits_{i=1}^n a_nx^n$)',\n",
    "                                       style=style,continuous_update=False))\n",
    "\n",
    "# Set the height of the control.children[-1] so that the output does not jump and flicker\n",
    "output = m.children[-1]\n",
    "output.layout.height = '450px'\n",
    "\n",
    "# Display the control\n",
    "display(m)"
   ]
  },
  {
   "cell_type": "code",
   "execution_count": null,
   "metadata": {},
   "outputs": [],
   "source": []
  }
 ],
 "metadata": {
  "kernelspec": {
   "display_name": "Python 3",
   "language": "python",
   "name": "python3"
  },
  "language_info": {
   "codemirror_mode": {
    "name": "ipython",
    "version": 2
   },
   "file_extension": ".py",
   "mimetype": "text/x-python",
   "name": "python",
   "nbconvert_exporter": "python",
   "pygments_lexer": "ipython2",
   "version": "2.7.15"
  }
 },
 "nbformat": 4,
 "nbformat_minor": 2
}
